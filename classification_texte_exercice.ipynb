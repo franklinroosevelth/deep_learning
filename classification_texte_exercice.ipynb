{
  "nbformat": 4,
  "nbformat_minor": 0,
  "metadata": {
    "colab": {
      "provenance": [],
      "authorship_tag": "ABX9TyM609hkQQC7JvY0c3mD1Pyf",
      "include_colab_link": true
    },
    "kernelspec": {
      "name": "python3",
      "display_name": "Python 3"
    },
    "language_info": {
      "name": "python"
    }
  },
  "cells": [
    {
      "cell_type": "markdown",
      "metadata": {
        "id": "view-in-github",
        "colab_type": "text"
      },
      "source": [
        "<a href=\"https://colab.research.google.com/github/franklinroosevelth/deep_learning/blob/main/classification_texte_exercice.ipynb\" target=\"_parent\"><img src=\"https://colab.research.google.com/assets/colab-badge.svg\" alt=\"Open In Colab\"/></a>"
      ]
    },
    {
      "cell_type": "markdown",
      "source": [
        "#Importation des packages"
      ],
      "metadata": {
        "id": "_k9azgcBFXat"
      }
    },
    {
      "cell_type": "code",
      "source": [
        "import tensorflow as tf\n",
        "from tensorflow.keras.datasets import imdb\n",
        "from tensorflow.keras.preprocessing.sequence import pad_sequences\n",
        "from tensorflow.keras import models, layers\n",
        "from sklearn.metrics import confusion_matrix, classification_report\n",
        "import matplotlib.pyplot as plt\n",
        "import seaborn as sns\n",
        "import numpy as np"
      ],
      "metadata": {
        "id": "QBn7tSKiI4Vl"
      },
      "execution_count": null,
      "outputs": []
    },
    {
      "cell_type": "markdown",
      "source": [
        "#Chargement des données"
      ],
      "metadata": {
        "id": "9WYUtPOVLhlv"
      }
    },
    {
      "cell_type": "code",
      "source": [
        "max_features = 1000  # Nombre de mots à considérer comme features\n",
        "max_len =500 # Couper les textes après ce ,ombre de mots\n",
        "(X_train, y_train), (X_test, y_test)=imdb.load_data(num_words=max_features)\n",
        "# (X_train, y_train), (X_test, y_test)=([],[]),([],[])"
      ],
      "metadata": {
        "id": "d6Mm0pr6K9w6"
      },
      "execution_count": null,
      "outputs": []
    },
    {
      "cell_type": "markdown",
      "source": [
        "#Afficher les codes en texte"
      ],
      "metadata": {
        "id": "3aX9elBTOPPK"
      }
    },
    {
      "cell_type": "code",
      "source": [
        "word_index = imdb.get_word_index()\n",
        "#Inverser le dictionnaire qui mappe les indices aux mots\n",
        "reverse_word_index = {value:key for (key, value) in word_index.items()}\n",
        "# Fonction pour convertir une critique de film de la forme d'indices à la forme de mots\n",
        "def decode_review(text):\n",
        "  return ' '.join([reverse_word_index.get(i-3, '?') for i in text])\n",
        "\n",
        "decode_review = decode_review(X_train[0])\n",
        "print(\"Critique de film décodée : \")\n",
        "print(decode_review)"
      ],
      "metadata": {
        "colab": {
          "base_uri": "https://localhost:8080/"
        },
        "id": "n-Wp5GqXLtFR",
        "outputId": "b89d8a1c-086f-4589-9e92-30dce61403d7"
      },
      "execution_count": null,
      "outputs": [
        {
          "output_type": "stream",
          "name": "stdout",
          "text": [
            "Downloading data from https://storage.googleapis.com/tensorflow/tf-keras-datasets/imdb_word_index.json\n",
            "1641221/1641221 [==============================] - 0s 0us/step\n",
            "Critique de film décodée : \n",
            "? this film was just brilliant casting ? ? story direction ? really ? the part they played and you could just imagine being there robert ? is an amazing actor and now the same being director ? father came from the same ? ? as myself so i loved the fact there was a real ? with this film the ? ? throughout the film were great it was just brilliant so much that i ? the film as soon as it was released for ? and would recommend it to everyone to watch and the ? ? was amazing really ? at the end it was so sad and you know what they say if you ? at a film it must have been good and this definitely was also ? to the two little ? that played the ? of ? and paul they were just brilliant children are often left out of the ? ? i think because the stars that play them all ? up are such a big ? for the whole film but these children are amazing and should be ? for what they have done don't you think the whole story was so ? because it was true and was ? life after all that was ? with us all\n"
          ]
        }
      ]
    },
    {
      "cell_type": "code",
      "source": [
        "# Padding de textes\n",
        "# Cette étape ajuste toutes les séquences de textes à une longueur fixe définie par 'max_len'\n",
        "# Le padding ajoute des zéros au début des séquences plus courtes pour atteindre 'max_len'\n",
        "X_train = pad_sequences(X_train, maxlen=max_len)\n",
        "X_test = pad_sequences(X_test, maxlen=max_len)"
      ],
      "metadata": {
        "id": "kJe_AiyRLyth"
      },
      "execution_count": null,
      "outputs": []
    },
    {
      "cell_type": "code",
      "source": [
        "# Exemple de séquencage de texte\n",
        "sequences = [\n",
        "    [1,2,3],\n",
        "    [4,5,6,7,78],\n",
        "    [8,9]\n",
        "]\n",
        "max_len = 5\n",
        "sequences = pad_sequences(sequences, maxlen= max_len)\n",
        "print(sequences)"
      ],
      "metadata": {
        "colab": {
          "base_uri": "https://localhost:8080/"
        },
        "id": "CCWntXz0PSgu",
        "outputId": "cf9ab6d0-b354-4a6e-e4e0-c81c4436e7fc"
      },
      "execution_count": null,
      "outputs": [
        {
          "output_type": "stream",
          "name": "stdout",
          "text": [
            "[[ 0  0  1  2  3]\n",
            " [ 4  5  6  7 78]\n",
            " [ 0  0  0  8  9]]\n"
          ]
        }
      ]
    },
    {
      "cell_type": "markdown",
      "source": [
        "## Construction du modèle de deep learning"
      ],
      "metadata": {
        "id": "Jp5vTcLuP6Jz"
      }
    },
    {
      "cell_type": "code",
      "source": [
        "model = models.Sequential()\n",
        "model.add(layers.Embedding(max_features, 128, input_length=max_len))\n",
        "model.add(layers.Flatten())\n",
        "model.add(layers.Dense(128, activation='relu'))\n",
        "model.add(layers.Dense(1, activation='sigmoid'))\n",
        "model.summary()"
      ],
      "metadata": {
        "colab": {
          "base_uri": "https://localhost:8080/"
        },
        "id": "jcxxenbOPwvj",
        "outputId": "1ae1ab26-2288-483d-a678-e194ff23d9f0"
      },
      "execution_count": null,
      "outputs": [
        {
          "output_type": "stream",
          "name": "stdout",
          "text": [
            "Model: \"sequential_5\"\n",
            "_________________________________________________________________\n",
            " Layer (type)                Output Shape              Param #   \n",
            "=================================================================\n",
            " embedding_5 (Embedding)     (None, 500, 128)          128000    \n",
            "                                                                 \n",
            " flatten_4 (Flatten)         (None, 64000)             0         \n",
            "                                                                 \n",
            " dense_8 (Dense)             (None, 128)               8192128   \n",
            "                                                                 \n",
            " dense_9 (Dense)             (None, 1)                 129       \n",
            "                                                                 \n",
            "=================================================================\n",
            "Total params: 8320257 (31.74 MB)\n",
            "Trainable params: 8320257 (31.74 MB)\n",
            "Non-trainable params: 0 (0.00 Byte)\n",
            "_________________________________________________________________\n"
          ]
        }
      ]
    },
    {
      "cell_type": "code",
      "source": [
        "model.compile(optimizer='rmsprop', loss='binary_crossentropy', metrics=['accuracy'])"
      ],
      "metadata": {
        "id": "rFTkvGBeQSH8"
      },
      "execution_count": null,
      "outputs": []
    },
    {
      "cell_type": "code",
      "source": [
        "history = model.fit(X_train, y_train, epochs=5, batch_size=32, validation_split=0.2)"
      ],
      "metadata": {
        "colab": {
          "base_uri": "https://localhost:8080/"
        },
        "id": "QUPttnDJSqtc",
        "outputId": "871b0b32-8919-491e-cc78-f0a93d534121"
      },
      "execution_count": null,
      "outputs": [
        {
          "output_type": "stream",
          "name": "stdout",
          "text": [
            "Epoch 1/5\n",
            "625/625 [==============================] - 79s 126ms/step - loss: 0.5496 - accuracy: 0.6805 - val_loss: 0.4768 - val_accuracy: 0.7734\n",
            "Epoch 2/5\n",
            "625/625 [==============================] - 71s 114ms/step - loss: 0.2580 - accuracy: 0.8960 - val_loss: 0.3840 - val_accuracy: 0.8366\n",
            "Epoch 3/5\n",
            "625/625 [==============================] - 73s 117ms/step - loss: 0.0827 - accuracy: 0.9716 - val_loss: 0.5728 - val_accuracy: 0.8252\n",
            "Epoch 4/5\n",
            "625/625 [==============================] - 71s 114ms/step - loss: 0.0205 - accuracy: 0.9936 - val_loss: 0.7851 - val_accuracy: 0.8166\n",
            "Epoch 5/5\n",
            "625/625 [==============================] - 73s 116ms/step - loss: 0.0059 - accuracy: 0.9984 - val_loss: 1.0063 - val_accuracy: 0.8176\n"
          ]
        }
      ]
    },
    {
      "cell_type": "code",
      "source": [],
      "metadata": {
        "id": "sztCneJDTI6B"
      },
      "execution_count": null,
      "outputs": []
    }
  ]
}